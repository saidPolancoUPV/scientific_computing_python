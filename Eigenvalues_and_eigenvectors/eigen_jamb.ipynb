{
 "cells": [
  {
   "cell_type": "markdown",
   "metadata": {},
   "source": [
    "## Eigenvalores y Eigenvectores de una matriz\n",
    "\n",
    "Sea $A$ una matriz cuadrada, $v$ un vector y  $\\lambda$ un escalar que satisface$Av=\\lambda v$, entonces \n",
    "\n",
    "$v$ es un vector propio de $A$ y $\\lambda$ es el valor propio asociado a el. Para encontrar los valores \n",
    "\n",
    "propios $v$, es necesario resolver $det(A-\\lambda I)$.\n",
    "\n",
    "### Ejercicio\n",
    "\n",
    "Sea $A=\\begin{bmatrix} .5 &-.6\\\\.75 & 1.1\\\\\\end{bmatrix}$. Determine los valores propios de $A$, y encuentre una base para\n",
    "\n",
    "cada espacio propio.\n",
    "\n",
    "\n",
    "### Solución \n",
    "\n",
    "La ecuación característica de $A$ es $det(A-\\lambda I)$ lo cual es igual a:\n",
    "\n",
    "$\\begin{bmatrix} 0.5 &-0.6\\\\0.75 & 1.1\\\\\\end{bmatrix}-\\lambda \\begin{bmatrix} 1 &0\\\\0 & 1\\\\\\end{bmatrix} =\n",
    " \\begin{bmatrix} 0.5 &-0.6\\\\0.75 & 1.1\\\\\\end{bmatrix}-\\begin{bmatrix} \\lambda &0\\\\0 & \\lambda\\\\\\end{bmatrix}=\n",
    " det \\begin{bmatrix} 0.5 -\\lambda &-0.6\\\\0.75 & 1.1-\\lambda\\\\\\end{bmatrix} =\n",
    " (0.5-\\lambda)(1.1-\\lambda)-(-0.6)(0.75)=\\lambda ^{2}-1.6\\lambda+1$\n",
    " \n",
    " Ahora bien con ayuda de la formula general resolvamos la ecuacion de segundo grado:\n",
    " \n",
    " $\\lambda =\\frac{-b ± \\sqrt{(-b)^{2}-4(a)(c)}}{2(a)}=\\frac{-(-1.6) ± \\sqrt{(-1.6)^{2}-4(1)(1)}}{2(1)}=\n",
    " \\frac{1.6 ± \\sqrt{2.56-4}}{2}= \\frac{1.6 ± \\sqrt{1.44}}{2}= \\frac{1.6 ±1.2i}{2}=0.8±0.6i$\n",
    " \n",
    " Teniendo como valores propios a $\\lambda=0.8+0.6i$ y $\\lambda=0.8-0.6i$\n",
    " \n",
    " Una vez que ya calculamos los valores propios realizaremos la siguente operacion $(A-vI)$ \n",
    " \n",
    " para calcular los vectores propios.\n",
    "\n",
    " Donde $v$ tomara los valores correspondientes a los valores propios de la matriz $A$.\n",
    " \n",
    " $(A-vI)=\\begin{bmatrix} 0.5 &-0.6\\\\ 0.75 & 1.1\\\\\\end{bmatrix} - (0.8+0.6i)\\begin{bmatrix} 1 &0\\\\0 & 1\\\\\\end{bmatrix}=\n",
    " \\begin{bmatrix} 0.5 &-0.6\\\\0.75 & 1.1\\\\\\end{bmatrix} -\\begin{bmatrix} 0.8+0.6i &0\\\\0 & 0.8+0.6i\\\\\\end{bmatrix}=\n",
    " \\begin{bmatrix} -0.3+0.6i &-0.6\\\\0.75 & 0.3+0.6i\\\\\\end{bmatrix}$\n",
    " \n",
    " De la matriz final se obtienen las siguientes ecuaciones:\n",
    " \n",
    " \n",
    " $(-0.3+0.6i)x_{1}-0.6x_{2}=0...(1)$\n",
    " \n",
    " $0.75x_{1}+(0.3+0.6i)x_{2}=0...(2)$\n",
    " \n",
    " Al despejar ambas ecuaciones nos toparemos con el caso de que son linealmente dependientes,\n",
    " \n",
    " por lo tanto tendra solución no trivial, es decir multiples soluciones. En este caso despejaremos \n",
    " \n",
    " la ecuación 2 quedando de la siguiente manera:\n",
    " \n",
    " $0.75x_{1}=(-0.3-0.6i)x_{2}$\n",
    " \n",
    " $x_{1}=(-0.4-0.8i)x_{2}$\n",
    " \n",
    " En este caso $x_{1}$ depende del valor que le asignemos a $x_{2}$.\n",
    " \n",
    " Ahora bien para encontra el eigenvector tenemos que $x_{2}=0.75$\n",
    " \n",
    " y $x_{1}=(-0.4-0.8i)(0.75)$ dando como resultado $x_{1}=-0.3-0.6i$\n",
    " \n",
    " Teniendo como vector propio a $v_{1}=\\begin{bmatrix}x_{1} \\\\ x_{2}\\\\\\end{bmatrix}=\n",
    " v_{1}=\\begin{bmatrix} -0.3-0.6i\\\\ 0.75\\\\\\end{bmatrix}$\n",
    " \n",
    " Una vez que encontramos el eigen vector para $\\lambda=0.8+0.6i$ repetiremos el mismo procedimiento \n",
    " \n",
    " pero en este caso para $\\lambda=0.8-0.6i$ y obtendremos el segundo eigenvector.\n",
    " \n",
    " #### Resultados\n",
    " Finalmente tenemos que los valores propios del vector A son:\n",
    " \n",
    " $\\lambda=0.8+0.6i$ y $\\lambda=0.8-0.6i$\n",
    " \n",
    " Y como vectores correspondientes a los valores propios tenemos:\n",
    " \n",
    " $v_{1}=\\begin{bmatrix} -0.3-0.6i\\\\ 0.75\\\\\\end{bmatrix}$ y $v_{2}=\\begin{bmatrix} -0.3+0.6i\\\\ 0.75\\\\\\end{bmatrix}$\n",
    " \n",
    " ### Comprobando  el resultado tenemos el siguiente codigo\n",
    " "
   ]
  },
  {
   "cell_type": "code",
   "execution_count": 14,
   "metadata": {},
   "outputs": [
    {
     "data": {
      "text/plain": [
       "(array([0.8+0.6j, 0.8-0.6j]),\n",
       " array([[-0.2981424 +0.59628479j, -0.2981424 -0.59628479j],\n",
       "        [ 0.74535599+0.j        ,  0.74535599-0.j        ]]))"
      ]
     },
     "execution_count": 14,
     "metadata": {},
     "output_type": "execute_result"
    }
   ],
   "source": [
    "import numpy as np\n",
    "import scipy.linalg as sl\n",
    "\n",
    "A=np.array([[0.5,-0.6],[0.75,1.1]])\n",
    "sl.eig(A)"
   ]
  },
  {
   "cell_type": "code",
   "execution_count": null,
   "metadata": {},
   "outputs": [],
   "source": []
  }
 ],
 "metadata": {
  "kernelspec": {
   "display_name": "Python 3",
   "language": "python",
   "name": "python3"
  },
  "language_info": {
   "codemirror_mode": {
    "name": "ipython",
    "version": 3
   },
   "file_extension": ".py",
   "mimetype": "text/x-python",
   "name": "python",
   "nbconvert_exporter": "python",
   "pygments_lexer": "ipython3",
   "version": "3.6.6"
  }
 },
 "nbformat": 4,
 "nbformat_minor": 2
}
