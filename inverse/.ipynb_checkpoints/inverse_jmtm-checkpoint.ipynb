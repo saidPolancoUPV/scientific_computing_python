{
 "cells": [
  {
   "cell_type": "markdown",
   "metadata": {},
   "source": [
    "# Matriz Inversa. \n",
    "\n",
    "El método para calcular una matriz inversa nos pide saber si la matriz $A$ por evaluar es invertible, es decir que la matriz cuenta con una matriz inversa.\n",
    "\n",
    "El determinante $det(A)$ de dicha matriz debe ser diferente de zero, $|A| $≠$ 0$. Una vez obtenida la determinante de la matriz se procede a calcular la inversa.\n",
    "\n",
    "Un método sencillo para darle solución a este tipo de matriz es construir una matriz aumentada formada por la matriz por evaluar $A$ agregando a su derecha la matriz identidad $I$ del mismo orden.\n",
    "\n",
    "La siguiente formula nos muestra la explicación anterior $A.I=A^{-1}$.\n",
    "\n",
    "$$\n",
    "A^{-1}=\\begin{pmatrix}\n",
    "a11&a12&a13&|&1&0&0 \\\\\n",
    "a21&a22&a23&|&0&1&0 \\\\\n",
    "a31&a32&a33&|&0&0&1 \\end{pmatrix}\n",
    "$$\n",
    "\n",
    "La matriz identidad $I$, es una matriz cuadrada formada por zeros como elementos con la excepción de que la diagonal principal, esta formada por unos.\n",
    "La matriz Identidad $I$ se muestra a continuación.\n",
    "\n",
    "$$\n",
    "I=\\begin{pmatrix}\n",
    "1 & 0 & 0 \\\\\n",
    "0 & 1 & 0 \\\\\n",
    "0 & 0 & 1 \\end{pmatrix}\n",
    "$$\n",
    "\n",
    "El siguiente paso es resolver la matriz aumentada por el método de $Gauss$, el cual busca (a través de eliminación de filas) una matriz de diagonal superior, que esta formada por zeros bajo la diagonal principal, y de unos en sus diagonal principal.\n",
    "A continuación se muestra la forma de una matriz de diagonal superior de Gauss $A_G$. \n",
    "\n",
    "$$\n",
    "A_G=\\begin{pmatrix}\n",
    "1 & a12 & a13 \\\\\n",
    "0 & 1 & a23 \\\\\n",
    "0 & 0 & 1 \\end{pmatrix}\n",
    "$$\n",
    "\n",
    "Otro método complementario al de $Gauss$ es el método de $Gauss-Jordan$, el cual continua el procedimiento de eliminación entre filas que plantea el método anterior de $Gauss$.\n",
    "La matriz resultante una vez finaizado el método de eliminación de $Gauss-Jordan$, es tratar de obtener la matriz identidad $I$.\n",
    "\n",
    "$$\n",
    "Agj=\\begin{pmatrix}\n",
    "1 & 0 & 0 \\\\\n",
    "0 & 1 & 0 \\\\\n",
    "0 & 0 & 1 \\end{pmatrix}\n",
    "$$\n",
    "\n",
    "Por ultimo, una vez finalizada la evaluación de la matriz aumentada $A.I$, se obtiene como resultado una matriz identidad $I$ del lado derecho, y del lado izquierdo de la matriz aumentada, podemos encontramos la matriz inversa $A^{-1}$ que estamos buscando.\n",
    "\n",
    "### Resolución de una Matriz Inversa.\n",
    "\n",
    "Ejercicio 1.- Obtenga la matriz inversa de la siguiente matriz $A$.\n",
    "\n",
    "$$\n",
    "A=\\begin{pmatrix}\n",
    "1 & 1 & 0 \\\\\n",
    "1 & 0 & 1 \\\\\n",
    "0 & 1 & 0 \\end{pmatrix}\n",
    "$$\n",
    "\n",
    "1.- Primero se obtiene el determinante de la Matriz $A$ de orden $3$, aplicando la fórmula de $Sarrus$:\n",
    "    \n",
    "$det(A)$ = $([(a11)(a22)(a33)$ + $(a21)(a32)(a13)$ + $(a31)(a12)(a23)]$ - $[(a31)(a22)(a13)$ + $(a11)(a32)(a23)$ + $(a21)(a12)(a33)])$.\n",
    "\n",
    "$det(A)$ = $([(1)(0)(0)$ + $(1)(1)(0)$ + $(0)(1)(1)]$ - $[(0)(0)(0)$ + $(1)(1)(1)$ + $(1)(1)(0)])$.\n",
    "\n",
    "$det(A)$ = $([(0)$ + $(0)$ + $(0)]$ - $[(0)$ + $(1)$ + $(0)])$.\n",
    "\n",
    "$det(A)$ = $(0)$ - $(1)$ = $-1$.        La  $det(A)$ ≠ $ 0 $,  por lo tanto es una matriz invertible.\n",
    "\n",
    "\n",
    "2.- Si el $det(A)$ ≠ $ 0 $, se aplica la formula $A.I=A^{-1}$, y se obtiene la matriz aumentada $A.I$.\n",
    "\n",
    "$$\n",
    "A.I=\\begin{pmatrix}\n",
    "1&1&0&|&1&0&0 \\\\\n",
    "1&0&1&|&0&1&0 \\\\\n",
    "0&1&0&|&0&0&1 \\end{pmatrix}\n",
    "$$ \n",
    "\n",
    "3.- Una vez obtenida la matriz aumentada se resuelve la matriz por el método de eliminación de $Gauss-Jordan$.\n",
    "\n",
    "a.- $F2 = (-1)F1 - F2$.\n",
    "$$\n",
    "A.I=\\begin{pmatrix}\n",
    "1 & 1 & 0 &|& 1 & 0 & 0 \\\\\n",
    "0 &-1 & 1 &|&-1 & 1 & 0 \\\\\n",
    "0 & 1 & 0 &|& 0 & 0 & 1 \\end{pmatrix}\n",
    "$$\n",
    "\n",
    "b.- $F3 = F3 - F2$.\n",
    "$$\n",
    "A.I=\\begin{pmatrix}\n",
    "1 & 1 & 0 &|& 1 & 0 & 0 \\\\\n",
    "0 &-1 & 1 &|&-1 & 1 & 0 \\\\\n",
    "0 & 1 & 1 &|&-1 & 1 & 1 \\end{pmatrix}\n",
    "$$\n",
    "\n",
    "c.- $F2 = (-1)F3 + F2$.\n",
    "$$\n",
    "A.I=\\begin{pmatrix}\n",
    "1 & 1 & 0 &|& 1 & 0 & 0 \\\\\n",
    "0 &-1 & 0 &|& 0 & 0 &-1 \\\\\n",
    "0 & 0 & 1 &|&-1 & 1 & 1 \\end{pmatrix}\n",
    "$$\n",
    "\n",
    "d.- $F1 = F1 + F2$.\n",
    "$$\n",
    "A.I=\\begin{pmatrix}\n",
    "1 & 0 & 0 &|& 1 & 0 &-1 \\\\\n",
    "0 &-1 & 0 &|& 0 & 0 &-1 \\\\\n",
    "0 & 0 & 1 &|&-1 & 1 & 1 \\end{pmatrix}\n",
    "$$\n",
    "\n",
    "e.- $F2 = (-1)F2$.\n",
    "$$\n",
    "A.I=\\begin{pmatrix}\n",
    "1 & 0 & 0 &|& 1 & 0 &-1 \\\\\n",
    "0 & 1 & 0 &|& 0 & 0 & 1 \\\\\n",
    "0 & 0 & 1 &|&-1 & 1 & 1 \\end{pmatrix}\n",
    "$$\n",
    "\n",
    "La matriz inversa $A^{-1}$ es la matriz resultante al lado izquierdo dentro de la matriz aumentada $A.I$, la cual se muestra a continuación.\n",
    "\n",
    "$$\n",
    "A^{-1}=\\begin{pmatrix}\n",
    " 1 & 0 & -1 \\\\\n",
    " 0 & 0 &  1 \\\\\n",
    "-1 & 1 &  1 \\end{pmatrix}\n",
    "$$\n",
    "\n",
    "### Solución de ejemplos usando el lenguaje de programación PYTHON 3.\n",
    "\n",
    "Usando el entorno de $Jupyter Notebook$ y la libreria de $SCIPY$ con modulo de Algebra Lineal $(sci.linalg)$, se da solución al ejemplo mostrado en la sección anterior.\n",
    "\n",
    "\n"
   ]
  },
  {
   "cell_type": "code",
   "execution_count": null,
   "metadata": {},
   "outputs": [],
   "source": [
    "import numpy as np\n",
    "m3=np.array([[1,1,0],[1,0,1],[0,1,0]]) ##Se genera la matriz usando la libreria de numpy array\n",
    "m3"
   ]
  },
  {
   "cell_type": "code",
   "execution_count": 34,
   "metadata": {},
   "outputs": [
    {
     "data": {
      "text/plain": [
       "-1.0"
      ]
     },
     "execution_count": 34,
     "metadata": {},
     "output_type": "execute_result"
    }
   ],
   "source": [
    "m3=sl.det(m3)   ## Se calcula el determinante de la matriz m3, la cual se muestra diferente de zero.\n",
    "m3              ## m3 ≠ 0\n"
   ]
  },
  {
   "cell_type": "code",
   "execution_count": 33,
   "metadata": {},
   "outputs": [
    {
     "data": {
      "text/plain": [
       "array([[1., 0., 0.],\n",
       "       [0., 1., 0.],\n",
       "       [0., 0., 1.]])"
      ]
     },
     "execution_count": 33,
     "metadata": {},
     "output_type": "execute_result"
    }
   ],
   "source": [
    "I=np.identity(3)  ## Ejemplo, se muestra la matriz identidad generada por el comando de Numpy identity\n",
    "I\n"
   ]
  },
  {
   "cell_type": "code",
   "execution_count": 29,
   "metadata": {},
   "outputs": [
    {
     "data": {
      "text/plain": [
       "array([[ 1.,  0., -1.],\n",
       "       [ 0.,  0.,  1.],\n",
       "       [-1.,  1.,  1.]])"
      ]
     },
     "execution_count": 29,
     "metadata": {},
     "output_type": "execute_result"
    }
   ],
   "source": [
    "import scipy.linalg as sl    ##Se importa el modulo de algebra lineal desde la libreria scipy\n",
    "m3=sl.inv(m3)                ##Se utiliza el comando sl.inv para calcular la inversa\n",
    "m3"
   ]
  },
  {
   "cell_type": "code",
   "execution_count": null,
   "metadata": {},
   "outputs": [],
   "source": []
  },
  {
   "cell_type": "code",
   "execution_count": null,
   "metadata": {},
   "outputs": [],
   "source": []
  }
 ],
 "metadata": {
  "kernelspec": {
   "display_name": "Python 3",
   "language": "python",
   "name": "python3"
  },
  "language_info": {
   "codemirror_mode": {
    "name": "ipython",
    "version": 3
   },
   "file_extension": ".py",
   "mimetype": "text/x-python",
   "name": "python",
   "nbconvert_exporter": "python",
   "pygments_lexer": "ipython3",
   "version": "3.6.6"
  }
 },
 "nbformat": 4,
 "nbformat_minor": 2
}
