{
 "cells": [
  {
   "cell_type": "markdown",
   "metadata": {},
   "source": [
    "# Matriz inversa\n",
    "Se llama matriz inversa de de una matriz cuadrada $A$,y se expresa $A$*$A^{2}$, a la unica matriz que cumple:\n",
    "$A$ * $A^{1}$ = I = $A^{-1}$ * $A$\n",
    "La matriz inversa de A es la unica matriz que al multiplicarla por ella obtenemos la matriz identidad del orden correspondiente. La matriz no siempre existe, para que esta existe el determinante debe ser distinto a cero.\n",
    "Ejemplo= Determinar la matriz inversa de A  \n",
    "\n",
    "\\begin{pmatrix} 3.2 & -1 & 2 \\\\ 2 & -4 & 4 \\\\ 1.5 & -1 & -4 \\end{pmatrix}  \n",
    "\\begin{bmatrix} \\begin{matrix} 3.2 & -1 & 2 \\end{matrix} & |\\begin{matrix} 1 & 0 & 0 \\end{matrix} \\\\ \\begin{matrix} 2 & -2 & 4 \\end{matrix} & |\\begin{matrix} 0 & 1 & 0 \\end{matrix} \\\\ \\begin{matrix} 1.5 & -1 & -4 \\end{matrix} & |\\begin{matrix} 0 & 0 & 1 \\end{matrix} \\end{bmatrix}\\  \n",
    "Se reduce la matriz por la forma escalonada, que consiste en ir sustituyendo las filas, comenzamos con la fila R2---R2-0.925 * R1\n",
    "\n",
    "\\begin{bmatrix} 3.2 & -1 & 2 & \\mid \\:  & 1 & 0 & 0 \\\\ 0 & -1.375 & 2.75 & \\mid \\:  & -0.625 & 1 & 0 \\\\ 1.5 & -1 & -4 & \\mid \\:  & 0 & 0 & 1 \\end{bmatrix}\n",
    "\n",
    "R3--- R3-0.46875*R1, igual a   \n",
    "\\begin{bmatrix} 3.2 & -1 & 2 & \\mid \\:  & 1 & 0 & 0 \\\\ 0 & -1.375 & 2.75 & \\mid \\:  & -0.625 & 1 & 0 \\\\ 0 & -0.53125 & -4.9375 & \\mid \\:  & -0.46875 & 0 & 1 \\end{bmatrix}  \n",
    "R3---R3-0.46875*R2  \n",
    "\n",
    "\\begin{bmatrix}3.2&-1&2&\\mid \\:&1&0&0\\\\ 0&-1.375&2.75&\\mid \\:&-0.625&1&0\\\\ 0&0&-6&\\mid \\:&-0.22727\\dots &-0.38636\\dots &1\\end{bmatrix}  \n",
    "\n",
    "Multiplicaqndo la fila de la matriz por la constante R3----1/6*R3\n",
    "=\\begin{bmatrix}3.2&-1&2&\\mid \\:&1&0&0\\\\ 0&-1.375&2.75&\\mid \\:&-0.625&1&0\\\\ 0&0&1&\\mid \\:&0.03788\\dots &0.06439\\dots &-\\frac{1}{6}\\end{bmatrix}  \n",
    "\n",
    "Cancelando el primer coficiente en la fila R2 resolviendo R2---R2-2.75*R3\n",
    "\n",
    "\\begin{bmatrix}3.2&-1&2&\\mid \\:&1&0&0\\\\ 0&-1.375&0&\\mid \\:&-0.72917\\dots &0.82292\\dots &0.45833\\dots \\\\ 0&0&1&\\mid \\:&0.03788\\dots &0.06439\\dots &-\\frac{1}{6}\\end{bmatrix}  \n",
    "\n",
    "aplicando lo mismo pero con R1---R1-2*R3\n",
    "\n",
    "=\\begin{bmatrix}3.2&-1&0&\\mid \\:&0.92424\\dots &-0.12879\\dots &\\frac{1}{3}\\\\ 0&-1.375&0&\\mid \\:&-0.72917\\dots &0.82292\\dots &0.45833\\dots \\\\ 0&0&1&\\mid \\:&0.03788\\dots &0.06439\\dots &-\\frac{1}{6}\\end{bmatrix} \n",
    " \n",
    " Ahora con R2---(-0.72727)*R2  \n",
    " \n",
    "=\\begin{bmatrix}3.2&-1&0&\\mid \\:&0.92424\\dots &-0.12879\\dots &\\frac{1}{3}\\\\ 0&1&0&\\mid \\:&0.53030\\dots &-0.59848\\dots &-0.33333\\dots \\\\ 0&0&1&\\mid \\:&0.03788\\dots &0.06439\\dots &-\\frac{1}{6}\\end{bmatrix}   \n",
    "\n",
    "R2---R1+1*R2\n",
    "\n",
    "\\begin{bmatrix}3.2&0&0&\\mid \\:&1.45455\\dots &-0.72727\\dots &0\\\\ 0&1&0&\\mid \\:&0.53030\\dots &-0.59848\\dots &-0.33333\\dots \\\\ 0&0&1&\\mid \\:&0.03788\\dots &0.06439\\dots &-\\frac{1}{6}\\end{bmatrix}\n",
    "\n",
    "Al  multiplicar la fila de la matriz por la constante R1---0.3125*R1  \n",
    "\n",
    " \\begin{bmatrix}1&0&0&\\mid \\:&0.45455\\dots &-0.22727\\dots &0\\\\ 0&1&0&\\mid \\:&0.53030\\dots &-0.59848\\dots &-0.33333\\dots \\\\ 0&0&1&\\mid \\:&0.03788\\dots &0.06439\\dots &-\\frac{1}{6}\\end{bmatrix}  \n",
    " \n",
    " Por lo tanto la matriz inversa sera:  \n",
    " \n",
    " \\begin{pmatrix}0.45455\\dots &-0.22727\\dots &0\\\\ 0.53030\\dots &-0.59848\\dots &-0.33333\\dots \\\\ 0.03788\\dots &0.06439\\dots &-\\frac{1}{6}\\end{pmatrix}  \n",
    " \n",
    " Conclusíon:De acuero a los calculos realizados en papel y lapiz se obtiene el mismo resultado que arrojo la programacion en Python en conjunto con las librerias. El metodo convencional papel y lapiz es demaciado largo y no tan preciso en comparacion con el hecho en Python.  \n",
    " \n",
    " ___\n",
    " ##### Xochitl Atanacio Sánchez\n"
   ]
  },
  {
   "cell_type": "code",
   "execution_count": 1,
   "metadata": {},
   "outputs": [
    {
     "data": {
      "text/plain": [
       "array([[ 0.45454545, -0.22727273,  0.        ],\n",
       "       [ 0.53030303, -0.59848485, -0.33333333],\n",
       "       [ 0.03787879,  0.06439394, -0.16666667]])"
      ]
     },
     "execution_count": 1,
     "metadata": {},
     "output_type": "execute_result"
    }
   ],
   "source": [
    "import numpy\n",
    "import numpy.linalg\n",
    "A=numpy.array([[3.2,-1,2],[2,-2,4],[1.5,-1,-4]])\n",
    "inverse=numpy.linalg.inv(A)\n",
    "inverse\n"
   ]
  },
  {
   "cell_type": "code",
   "execution_count": null,
   "metadata": {},
   "outputs": [],
   "source": []
  }
 ],
 "metadata": {
  "kernelspec": {
   "display_name": "Python 3",
   "language": "python",
   "name": "python3"
  },
  "language_info": {
   "codemirror_mode": {
    "name": "ipython",
    "version": 3
   },
   "file_extension": ".py",
   "mimetype": "text/x-python",
   "name": "python",
   "nbconvert_exporter": "python",
   "pygments_lexer": "ipython3",
   "version": "3.6.6"
  }
 },
 "nbformat": 4,
 "nbformat_minor": 2
}
