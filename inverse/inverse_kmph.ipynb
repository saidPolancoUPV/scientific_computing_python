{
 "cells": [
  {
   "cell_type": "markdown",
   "metadata": {},
   "source": [
    "# Ejemplo de la inversa de una matriz\n",
    "\n",
    "Se llama matriz inversa de una matriz cuadrada A, y se expresa A-1, a la única matriz que cumple que:\n",
    "*A·A-1 = I = A-1·A*\n"
   ]
  },
  {
   "cell_type": "code",
   "execution_count": 1,
   "metadata": {},
   "outputs": [
    {
     "data": {
      "text/plain": [
       "array([[1, 2],\n",
       "       [3, 4]])"
      ]
     },
     "execution_count": 1,
     "metadata": {},
     "output_type": "execute_result"
    }
   ],
   "source": [
    "import numpy\n",
    "import scipy.linalg as sl\n",
    "from numpy import array\n",
    "A=array ([[1, 2], [3, 4]])\n",
    "A"
   ]
  },
  {
   "cell_type": "code",
   "execution_count": 4,
   "metadata": {},
   "outputs": [],
   "source": [
    "det= sl.inv(A)"
   ]
  },
  {
   "cell_type": "code",
   "execution_count": 5,
   "metadata": {},
   "outputs": [
    {
     "data": {
      "text/plain": [
       "array([[-2. ,  1. ],\n",
       "       [ 1.5, -0.5]])"
      ]
     },
     "execution_count": 5,
     "metadata": {},
     "output_type": "execute_result"
    }
   ],
   "source": [
    "det"
   ]
  },
  {
   "cell_type": "markdown",
   "metadata": {},
   "source": [
    "**Documentación**      \n",
    "Es decir, la matriz inversa de A es la única matriz que al multiplicarla por ella obtenemos la matriz identidad del orden correspondiente.\n",
    "\n",
    "La matriz inversa no siempre existe, para que exista, es condición necesaria y suficiente que el determinante de la matriz sea distinto de cero    \n",
    "**Formula**\n",
    "Para calcular la inversa de una matriz se multiplica $A* A ^-1$ = $ A^-1*A$\n",
    "\n",
    "**Solución teórica**   \n",
    "La inversa de una matriz se realizo con la formula     \n",
    "  A∗A−1  =  A−1∗A    \n",
    "\n",
    "  \n",
    "**Solución a mano**\n",
    " Construir una matriz del tipo M = (A | I)  \n",
    " [1, 2]  = A,     \n",
    " [3, 4]  \n",
    "La matriz identidad se escribe de la siguente manera:\n",
    " [1, 0]  = I,     \n",
    " [0, 1]  \n",
    "\n",
    "Y se pone una linea imaginaria para diferenciar la matriz dibujada y la matriz identidad, cuando se tiene una matriz pequeña no hay problema para distinguir cual es cada una, a diferencia cuando la matriz es mayor, se complica visualmente.\n",
    "- | Matriz A | -|Identidad\n",
    "-- | -- | -- | -- |\n",
    "|1 | 2| 1 | 0|\n",
    "|3 | 4| 0 | 1|\n",
    "\n",
    "La matriz A se convertira en una identidad, con transformación, que de igual manera afecta a la matriz identidad original, y lo que resulte en donde se encontraba la matriz identidad, esa sera la inversa de la matriz.    \n",
    "+ Primero se tiene que hacer '1'  en la cordenada (0, 0), en este caso el uno ya esta, ahora '0' en la coordenada (1, 0)\n",
    "\n",
    "\n",
    "- | Matriz A | -|Identidad\n",
    "-- | -- | -- | -- |\n",
    "|1 | 2| 1 | 0|\n",
    "|**3** | 4| 0 | 1|\n",
    "**-3F1+F2**\n",
    "\n",
    "Operación  \n",
    "- | Matriz A | -|Identidad\n",
    "-- | -- | -- | -- |\n",
    "|-3 | -6| -3 | 0|\n",
    "|**3** | 4| 0 | 1|\n",
    "**0** |**-2** |**-3** | **1**|\n",
    "\n",
    "Despues de la operación la matriz queda asi:\n",
    "- | Matriz A | -|Identidad\n",
    "-- | -- | -- | -- |\n",
    "|1 | 2| 1 | 0|\n",
    "|0| -2| -3 | 1|\n",
    "\n",
    "El siguiente paso es hacer '1' el '-2' con coordenada (1, 1); que se logra con 1/2 y para que quede positivo se le pone un '-', de esta manera la multiplicacion de dos menos, da de resultado mas. (-) * (-) = (+)\n",
    "- | Matriz A | -|Identidad\n",
    "-- | -- | -- | -- |\n",
    "|1 | 2| 1 | 0|\n",
    "|0| -2| -3 | 1|\n",
    "-1/2F2\n",
    "Toda la fila 2 se multiplica por (-1/2)\n",
    "\n",
    "Operación aplicada \n",
    "- | Matriz A | -|Identidad\n",
    "-- | -- | -- | -- |\n",
    "|1 | 2| 1 | 0|\n",
    "|0| 1| 3/2 | -1/2|\n",
    "\n",
    "Para terminar solo falta hacer '0' la coordenada (0, 1), el '2'.\n",
    "Lo que se hace es, Multiplicar -2* F2 + F1\n",
    "- | Matriz A | -|Identidad\n",
    "-- | -- | -- | -- |\n",
    "|1 | 2| 1 | 0|\n",
    "|0| 1| 3/2 | -1/2|\n",
    "\n",
    "Operación\n",
    "\n",
    "- | Matriz A | -|Identidad\n",
    "-- | -- | -- | -- |\n",
    "|0 | -2 |  -6/3 | 1|\n",
    "|1| 2|1 | 0|\n",
    " \n",
    " \n",
    " y queda:\n",
    " - | Matriz A | -|Identidad\n",
    "-- | -- | -- | -- |\n",
    "|1 | 0| -2 | 1|\n",
    "|0| 1| 3/2 | -1/2|\n",
    " En fracciones\n",
    " \n",
    " y queda:\n",
    " - | Matriz A | -|Identidad\n",
    "-- | -- | -- | -- |\n",
    "|1 | 0| -2 | 1|\n",
    "|0| 1| 1.5 | -.5|\n",
    "con decimales"
   ]
  },
  {
   "cell_type": "code",
   "execution_count": null,
   "metadata": {},
   "outputs": [],
   "source": []
  }
 ],
 "metadata": {
  "kernelspec": {
   "display_name": "Python 3",
   "language": "python",
   "name": "python3"
  },
  "language_info": {
   "codemirror_mode": {
    "name": "ipython",
    "version": 3
   },
   "file_extension": ".py",
   "mimetype": "text/x-python",
   "name": "python",
   "nbconvert_exporter": "python",
   "pygments_lexer": "ipython3",
   "version": "3.7.0"
  }
 },
 "nbformat": 4,
 "nbformat_minor": 2
}
