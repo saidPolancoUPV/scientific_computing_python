{
 "cells": [
  {
   "cell_type": "markdown",
   "metadata": {},
   "source": [
    "# inversa de una matriz \n",
    "### Definicio\n",
    "Llamamos matriz invertible a una matriz, cuando existe otra matriz que puede ser considera su inversa. Es decir, que una matriz es invertible si se puede calcular su inversa, de forma que la matriz por su inversa de lugar a una matriz identidad. Esto significa que A x A-1 = I. También se dice que una matriz invertible es una matriz regular, no singular, o no degenerada. No existe la posibilidad de que una matriz posea más de una inversa.\n",
    "\n",
    "### Métodos para calcular la matriz inversa\n",
    "Existen diferentes métodos para calcular la inversa de una matriz. Si una matriz es invertible podemos calcular su inversa a partir del método por determinantes, el método de Gauss-Jordan y el método por adjuntos. Sea cual sea el método para calcular la matriz inversa, el resultado debe ser el mismo, ya que una matriz tan sólo tiene una inversa.\n",
    "\n",
    "### Ejercicio\n",
    "Calcular la inversa de la matriz A.\n",
    "\\begin{bmatrix}\n",
    "1 & 5 & 4 \\\\\n",
    "-4 & 5 & 2 \\\\\n",
    "3 & 1 & 2 \\end{bmatrix}\n",
    "\n",
    "### Metodo utilizado \n",
    "El metodo empleado para resolver este problema sera por medio de Gauss-jordan. conosiste en expandir la matriz origial con una matriz identida del mismo tamaño y al aplicar gauss-jordan a la matriz original dara origen en la expandida una nueva matriz la cual sera la inversa de la matriz original.\n",
    "\n",
    "### Solucion paso a paso\n",
    "1. se expande una matriz identidad de las misma dimenciones que la orignal y se buscara que el primer valor de la matriz (la posicion [1,1]) sea igual a 1, en nuestro caso al ya ser uno este numero es nuetro pivote.\n",
    "\n",
    "\\begin{bmatrix}\n",
    "1 & 5 & 4 & |& 1 & 0 & 0\\\\\n",
    "-4 & 5 & 2 & |& 0 & 1 & 0\\\\\n",
    "3 & 1 & 2 & |& 0 & 0 & 1\\end{bmatrix}\n",
    "\n",
    "2. Usando nuetro pivote se realizaran operacion con esa fila completa para lograr hacer ceros los numeros que esten por debajo del pivote siento en este caso para la fila 2 = 4* F1 + F2 y para la fila 3 = -3* F1 + F3, creando asi 2 nuevas filas 2 y 3 las cuales son F2:\n",
    "\n",
    "\\begin{bmatrix}\n",
    "0 & 25 & 18 & |& 4 & 1 & 0\\end{bmatrix} \n",
    "\n",
    "y F3:\n",
    "\n",
    "\\begin{bmatrix}\n",
    "0 & -14 & -10 & |& -3 & 0 & 1\\end{bmatrix} \n",
    "\n",
    "Remplazando las nuevas filas en la matriz original quedaria de la sig manera:\n",
    "\n",
    "\\begin{bmatrix}\n",
    "1 & 5 & 4 & |& 1 & 0 & 0\\\\\n",
    "0 & 25 & 18 & |& 4 & 1 & 0\\\\\n",
    "0 & -14 & -10 & |& -3 & 0 & 1\\end{bmatrix}\n",
    "\n",
    "3. El segundo valor en la diagonal se tiene que volver 1 para poder usarlo como pivote entonces se tiene que realizar una operacion con la segunda fila para que el 25 (pocision [2,2]) se vuelva 1 la cual seria F2= (1/25)F2, quedando de la siguiente manera la matriz.\n",
    "\n",
    "\\begin{bmatrix}\n",
    "1 & 5 & 4 & |& 1 & 0 & 0\\\\\n",
    "0 & 1 & 18/25 & |& 4/25 & 1/25 & 0\\\\\n",
    "0 & -14 & -10 & |& -3 & 0 & 1\\end{bmatrix}\n",
    "\n",
    "4. Se tienen que convertir en 0 todos los elementos de la columna con operacion aplicada a la fila completa donde se encuentra el pivote y sumando o restando a las demas fila, siendo para la F1= -5* F2 +F1 y para la F3= 14* F3 + F3, remplazado las filas nuevas en la matriz quedaria de la siguiente forma\n",
    "\n",
    "\\begin{bmatrix}\n",
    "1 & 0 & 2/5 & |& 1/5 & -1/5 & 0\\\\\n",
    "0 & 1 & 18/25 & |& 4/25 & 1/25 & 0\\\\\n",
    "0 & 0 & 2/25 & |& -19/25 & 14/25 & 1\\end{bmatrix}\n",
    "\n",
    "5. Se vuelve 1 el 3 valor de la diagonal el cual es 2/25 (posicion [3,3]) para volverlo 1 se multiplica toda la fila por el inverso de ese valor el cual seria 25/2 quedando asi una nueva fila que al remplazarla en la matriz quedaria:\n",
    "\n",
    "\\begin{bmatrix}\n",
    "1 & 0 & 2/5 & |& 1/5 & -1/5 & 0\\\\\n",
    "0 & 1 & 18/25 & |& 4/25 & 1/25 & 0\\\\\n",
    "0 & 0 & 1 & |& -19/2 & 7 & 25/2\\end{bmatrix}\n",
    "\n",
    "6. Como pasos anteriores se tienen que volver los demas valores de la columna 3 en ceros usando el pivote con formulas que modifiquen todas las filas completamente, siendo las operaciones indicadas F2= (-18/25)F3 + F2 y F1= (-2/5)F3 + F1 y sutituyendo las filas nuevas en la matriz quedaria de la siguiente manera:\n",
    "\n",
    "\\begin{bmatrix}\n",
    "1 & 0 & 0 & |& 4 & -3 & -5\\\\\n",
    "0 & 1 & 0 & |& 7 & -5 & -9\\\\\n",
    "0 & 0 & 1 & |& -19/2 & 7 & 25/2\\end{bmatrix}\n",
    "\n",
    "7. Teniendo ambas matrices terminadas deberiamos de tener una matriz identidad del lado izquierdo y del lado derecho de la expancion de la matriz tenemos una nueva matriz la cual es la matriz identidad de la original.\n",
    "\n",
    "### Resultado a mano\n",
    "\n",
    "\\begin{bmatrix}\n",
    " 4 & -3 & -5\\\\\n",
    " 7 & -5 & -9\\\\\n",
    "-19/2 & 7 & 25/2\\end{bmatrix}\n",
    "\n",
    "### Comprobacion por medio de codigo"
   ]
  },
  {
   "cell_type": "code",
   "execution_count": 1,
   "metadata": {},
   "outputs": [
    {
     "data": {
      "text/plain": [
       "array([[ 4. , -3. , -5. ],\n",
       "       [ 7. , -5. , -9. ],\n",
       "       [-9.5,  7. , 12.5]])"
      ]
     },
     "execution_count": 1,
     "metadata": {},
     "output_type": "execute_result"
    }
   ],
   "source": [
    "from scipy import linalg\n",
    "from numpy import array\n",
    "A= array ([[1,5,4],[-4,5,2],[3,1,2]])\n",
    "linalg.inv(A)"
   ]
  },
  {
   "cell_type": "code",
   "execution_count": null,
   "metadata": {},
   "outputs": [],
   "source": []
  }
 ],
 "metadata": {
  "kernelspec": {
   "display_name": "Python 3",
   "language": "python",
   "name": "python3"
  },
  "language_info": {
   "codemirror_mode": {
    "name": "ipython",
    "version": 3
   },
   "file_extension": ".py",
   "mimetype": "text/x-python",
   "name": "python",
   "nbconvert_exporter": "python",
   "pygments_lexer": "ipython3",
   "version": "3.6.6"
  }
 },
 "nbformat": 4,
 "nbformat_minor": 2
}
