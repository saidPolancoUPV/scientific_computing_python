{
 "cells": [
  {
   "cell_type": "markdown",
   "metadata": {},
   "source": [
    "## Inversa de una matriz\n",
    "\n",
    "### Teorema\n",
    "\n",
    "Una matriz $A$ de $n×n$ es invertible si y solo si $A$ es equivalente por filas a $I_{n}$,y en este caso, cualquier \n",
    "\n",
    "secuencia de operaciones elementales de la fila que reduzca $A$ a $I_{n}$ tambien transforma a $I_{n}$ en $A^{-1}$.\n",
    "\n",
    "\n",
    "#### Ejercicio\n",
    "\n",
    "Encontrar la inversa de la matriz $A$\n",
    "\\begin{bmatrix}\n",
    "0 & 1 & 2 \\\\\n",
    "1 & 0 & 3 \\\\\n",
    "4 &-3 & 8 \\end{bmatrix}\n",
    "\n",
    "##### Solución\n",
    "\n",
    "Para poder saber si la matriz anterior tiene inversa lo primero que se debe de hacer es generar la matriz \n",
    "\n",
    "aumentada la cual queda de la siguiente manera:\n",
    "\n",
    "\\begin{bmatrix}\n",
    "0 & 1 & 2 & |& 1 & 0 & 0\\\\\n",
    "1 & 0 & 3 & |& 0 & 1 & 0\\\\\n",
    "4 &-3 & 8 & |& 0 & 0 & 1\\end{bmatrix}\n",
    "\n",
    "Ya que tenemos la matriz aumentada se procede a desarrollar.\n",
    "\n",
    "\n",
    "##### Pasos\n",
    "\n",
    "1. Encuentra el pivote en la columna número 1 e intercambia la fila número 2 con la fila número 1:\n",
    "\n",
    "\\begin{bmatrix}\n",
    "1 & 0 & 3 & |& 0 & 1 & 0\\\\\n",
    "0 & 1 & 2 & |& 1 & 0 & 0\\\\\n",
    "4 &-3 & 8 & |& 0 & 0 & 1\\end{bmatrix}\n",
    "\n",
    "2. Hacer ceros la columna número 1 en la fila 3\n",
    "\\begin{bmatrix}\n",
    "1 & 0 & 3 & |& 0 & 1 & 0\\\\\n",
    "0 & 1 & 2 & |& 1 & 0 & 0\\\\\n",
    "0 &-3 &-4 & |& 0 &-4 & 1\\end{bmatrix}\n",
    "\n",
    "3. Hacer ceros la columna número 2 en la fila 3\n",
    "\\begin{bmatrix}\n",
    "1 & 0 & 3 & |& 0 & 1 & 0\\\\\n",
    "0 & 1 & 2 & |& 1 & 0 & 0\\\\\n",
    "0 & 0 & 2 & |& 3 &-4 & 1\\end{bmatrix}\n",
    "\n",
    "4. Encuentra el pivote en la columna número 3 dividiendo la fila número 3 entre 2\n",
    "\\begin{bmatrix}\n",
    "1 & 0 & 3 & |& 0 & 1 & 0\\\\\n",
    "0 & 1 & 2 & |& 1 & 0 & 0\\\\\n",
    "0 & 0 & 1 & |&3/2 &-2 &1/2\\end{bmatrix}\n",
    "\n",
    "5. Hacer ceros la columna número 3 en las filas 1 y 2\n",
    "\\begin{bmatrix}\n",
    "1 & 0 & 0 & |&-9/2 & 7 &-3/2\\\\\n",
    "0 & 1 & 0 & |&-2 & 4 &-1\\\\\n",
    "0 & 0 & 1 & |&3/2 &-2 &1/2\\end{bmatrix}\n",
    "\n",
    "#### Resultado\n",
    "Teniendo como resultado a $A^{-1}$\n",
    "\\begin{bmatrix}\n",
    "-9/2 & 7 &-3/2\\\\\n",
    "-2 & 4 &-1\\\\\n",
    "3/2 &-2 &1/2\\end{bmatrix}\n",
    "\n",
    "### Comprobando el resultado tenemos el siguiente codigo"
   ]
  },
  {
   "cell_type": "code",
   "execution_count": 37,
   "metadata": {},
   "outputs": [
    {
     "data": {
      "text/plain": [
       "array([[-4.5,  7. , -1.5],\n",
       "       [-2. ,  4. , -1. ],\n",
       "       [ 1.5, -2. ,  0.5]])"
      ]
     },
     "execution_count": 37,
     "metadata": {},
     "output_type": "execute_result"
    }
   ],
   "source": [
    "import numpy as np\n",
    "import scipy.linalg as sl\n",
    "\n",
    "A=np.array([[0,1,2],[1,0,3],[4,-3,8]])\n",
    "sl.inv(A)\n"
   ]
  },
  {
   "cell_type": "code",
   "execution_count": null,
   "metadata": {},
   "outputs": [],
   "source": []
  }
 ],
 "metadata": {
  "kernelspec": {
   "display_name": "Python 3",
   "language": "python",
   "name": "python3"
  },
  "language_info": {
   "codemirror_mode": {
    "name": "ipython",
    "version": 3
   },
   "file_extension": ".py",
   "mimetype": "text/x-python",
   "name": "python",
   "nbconvert_exporter": "python",
   "pygments_lexer": "ipython3",
   "version": "3.6.6"
  }
 },
 "nbformat": 4,
 "nbformat_minor": 2
}
