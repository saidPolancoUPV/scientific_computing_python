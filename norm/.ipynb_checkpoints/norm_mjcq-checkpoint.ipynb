{
 "cells": [
  {
   "cell_type": "markdown",
   "metadata": {},
   "source": [
    "# Norma de una matriz o vector\n",
    "\n",
    "Un vector o matriz es un elemento de un espacio vectorial del que, en ocasiones, especialmente en física y geometría, interesa conocer su longitud. Para ello se hace necesario definir un operador norma que determine la longitud o magnitud del vector bajo consideración ya que este acto, pese a lo que pudiéramos creer, no es un problema trivial.\n",
    "\n",
    "*Para obtener la norma se realiza lo siguiente:*\n",
    "\n",
    "**$||A|| = √(a1)^2 + (a2)^2 + (a3)^2+ ... + (an)^2$**\n",
    "\n",
    "**Ejemplo:**\n",
    "\n",
    "*En una matriz **A** de 2x2:*\n",
    "\n",
    "Matriz|2x2\n",
    "--|--\n",
    "a00|a01\n",
    "a10|a11\n",
    "\n",
    "*Vamos a elevar a cada uno de sus elementos al cuadrado, para posteriormente, sumarlos y por ultimo sacarle la raiz del elemento, es decir que:*\n",
    "\n",
    "**$||A|| = √(a00)^2 + (a01)^2 + (a10)^2 + (a11)^2$**\n",
    "\n",
    "*Y, el resultante, es la norma de la matriz*\n",
    "\n",
    "## Solucion:\n",
    "\n",
    "*Teniendo una matriz de 2x2*\n",
    "\n",
    "Matriz|2x2\n",
    "--|--\n",
    "2|3\n",
    "6|7\n",
    "\n",
    "*Ahora se debe de elevar cada uno de los elementos al cuadrado, sumarlos y sacarle la raiz cuadrada al elemento resultante*\n",
    "\n",
    "**$√(2)^2 + (3)^2 + (6)^2 + (7)^2$**\n",
    "\n",
    "**$√4 + 9 + 36 + 49$**\n",
    "\n",
    "**$√98$**\n",
    "\n",
    "*Y el resultante es la norma de la matriz o vector*\n",
    "\n",
    "**$9.89$**\n",
    "\n",
    "**Resolucion:**"
   ]
  },
  {
   "cell_type": "code",
   "execution_count": 1,
   "metadata": {},
   "outputs": [],
   "source": [
    "import numpy\n",
    "from numpy import array\n",
    "import scipy.linalg as sl"
   ]
  },
  {
   "cell_type": "code",
   "execution_count": 2,
   "metadata": {},
   "outputs": [
    {
     "data": {
      "text/plain": [
       "array([[2, 3],\n",
       "       [6, 7]])"
      ]
     },
     "execution_count": 2,
     "metadata": {},
     "output_type": "execute_result"
    }
   ],
   "source": [
    "A=array([[2,3],[6,7]])\n",
    "A"
   ]
  },
  {
   "cell_type": "code",
   "execution_count": 3,
   "metadata": {},
   "outputs": [
    {
     "data": {
      "text/plain": [
       "9.899494936611665"
      ]
     },
     "execution_count": 3,
     "metadata": {},
     "output_type": "execute_result"
    }
   ],
   "source": [
    "sl.norm(A)"
   ]
  },
  {
   "cell_type": "code",
   "execution_count": null,
   "metadata": {},
   "outputs": [],
   "source": []
  }
 ],
 "metadata": {
  "kernelspec": {
   "display_name": "Python 3",
   "language": "python",
   "name": "python3"
  },
  "language_info": {
   "codemirror_mode": {
    "name": "ipython",
    "version": 3
   },
   "file_extension": ".py",
   "mimetype": "text/x-python",
   "name": "python",
   "nbconvert_exporter": "python",
   "pygments_lexer": "ipython3",
   "version": "3.6.6"
  }
 },
 "nbformat": 4,
 "nbformat_minor": 2
}
