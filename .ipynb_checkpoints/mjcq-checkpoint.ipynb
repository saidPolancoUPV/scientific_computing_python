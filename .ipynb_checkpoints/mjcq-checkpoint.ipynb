{
 "cells": [
  {
   "cell_type": "markdown",
   "metadata": {},
   "source": [
    "# Vectores propios y valores propios\n",
    "\n",
    "En álgebra lineal, los vectores propios o autovectores de un operador lineal son los vectores no nulos que, cuando son transformados por el operador, dan lugar a un múltiplo escalar de sí mismos, con lo que no cambian su dirección. Este escalar Λ recibe el nombre valor propio, autovalor o valor característico. A menudo, una transformación queda completamente determinada por sus vectores propios y valores propios. Un espacio propio, autoespacio o subespacio fundamental asociado al valor propio Λ  es el conjunto de vectores propios con un valor propio común.\n",
    "\n",
    "Ahora bien, se mostrara como es que se obtienen los valores de una matriz por este medio\n",
    "\n",
    "**Ejemplo**\n",
    "\n",
    "Teniendo una matriz de dimension 1:\n",
    "\n",
    "A = [a]\n",
    "\n",
    "*El primer paso es obtener el determinante de la resta de la matriz menos la matriz identidad de lambda, es decir:*\n",
    "\n",
    "**Det (A - ΛI) =**\n",
    "\n",
    "Asi que esto nos daria al asi:\n",
    "\n",
    "**Det ([a] - [Λ]) = Det [a - Λ]**\n",
    "\n",
    "Y como ya se sabe el determinante de una matriz de dimension uno, es el mismo valor, asi que el determinante de la matriz seria:\n",
    "\n",
    "**(a - Λ)**\n",
    "\n",
    "*En este punto ya podemos obtener lo que es nuestro valor propio, solo debemos de despejar lambda:*\n",
    "\n",
    "**Λ = a**\n",
    "\n",
    "*Tome en cuenta que la cantidad de valores propios sera igual a la diagonal de la matriz si es de 2 x 2 , se obtendran 2 y si es de 3 x 3, seran 3 y asi sucesivamente.*\n",
    "\n",
    "*Teniendo nuestro valor propio ahora si, podemos calcular nuestro vector propio, sustituyendo el valor de lambda, en la multiplicacion que se obtuvo de nuestra matriz menos la matriz identidad de lambda e igualandolo a 0, teniendo como resultado:*\n",
    "\n",
    "**[a - Λ] = [a - a = 0]**\n",
    "\n",
    "*Resolviendo el sistema de ecuaciones nos generaria una igualdad la cual seria:*\n",
    "\n",
    "**[a - a = 0] = [0 = 0]**\n",
    "\n",
    "*Esta se representa con incognitas, pero como el valor de la pocision x es igual a cero, se entiende, como que x puede ser igual a cualquier numero real existente.*\n",
    "\n",
    "**[0 = 0] = (x = R) = (x = x) = (x = 1)\n",
    "\n",
    "*Y como **x** puede ser cualquier valor decimos que x = x , asi que x = 1 y este valor es el resultado de nuestro vector propio (El vector propio de una matriz de dimension 1 siempre sera igual a 1), el cual se pone en las partes de las columnas, notese que del tamaño de las dimensiones de nuestra matriz, sera el mismo del tamaño de la matriz conformada por los vectores propios.*\n",
    "\n",
    "***Nota: Tome en cuenta que dependiendo de la dimension de nuestra matriz es la cantidad de variables que se genera***\n",
    "\n",
    "**Ejemplo:**\n",
    "\n",
    "Una matriz de 2x2 genera variables x , y:\n",
    "\n",
    "+- x +- y = R.\n",
    "\n",
    "Una matriz de 3x3 genera variables x , y , z:\n",
    "\n",
    "+- x +- y +- z = R.\n",
    "\n",
    "## Solucion de Problema\n",
    "\n",
    "A = [2]\n",
    "\n",
    "Det (A - ΛI) = Det ([2] - [Λ]) = Det ([2 - Λ]) = 2 - Λ\n",
    "\n",
    "**Valor Propio:**\n",
    "\n",
    "Λ = 2\n",
    "\n",
    "**Vector Propio**\n",
    "\n",
    "[2 - Λ = 0] = [2 - 2 = 0] = [0 - 0 = 0] = [0 = 0]\n",
    "\n",
    "x = R\n",
    "\n",
    "x = x\n",
    "\n",
    "x = 1\n",
    "\n",
    "**Resultado**\n",
    "\n",
    "**Valor propio:** [2 + 0 j]\n",
    "\n",
    "**Vector propio:** [1]"
   ]
  },
  {
   "cell_type": "code",
   "execution_count": 10,
   "metadata": {},
   "outputs": [],
   "source": [
    "import numpy\n",
    "import scipy.linalg as sl"
   ]
  },
  {
   "cell_type": "code",
   "execution_count": 11,
   "metadata": {},
   "outputs": [
    {
     "data": {
      "text/plain": [
       "array([[2]])"
      ]
     },
     "execution_count": 11,
     "metadata": {},
     "output_type": "execute_result"
    }
   ],
   "source": [
    "a=numpy.array([[2]])\n",
    "a"
   ]
  },
  {
   "cell_type": "code",
   "execution_count": 12,
   "metadata": {},
   "outputs": [
    {
     "data": {
      "text/plain": [
       "(array([2.+0.j]), array([[1.]]))"
      ]
     },
     "execution_count": 12,
     "metadata": {},
     "output_type": "execute_result"
    }
   ],
   "source": [
    "b=sl.eig(a)\n",
    "b"
   ]
  },
  {
   "cell_type": "code",
   "execution_count": null,
   "metadata": {},
   "outputs": [],
   "source": []
  }
 ],
 "metadata": {
  "kernelspec": {
   "display_name": "Python 3",
   "language": "python",
   "name": "python3"
  },
  "language_info": {
   "codemirror_mode": {
    "name": "ipython",
    "version": 3
   },
   "file_extension": ".py",
   "mimetype": "text/x-python",
   "name": "python",
   "nbconvert_exporter": "python",
   "pygments_lexer": "ipython3",
   "version": "3.6.6"
  }
 },
 "nbformat": 4,
 "nbformat_minor": 2
}
