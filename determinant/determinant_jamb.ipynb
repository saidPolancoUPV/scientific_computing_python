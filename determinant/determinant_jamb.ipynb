{
 "cells": [
  {
   "attachments": {},
   "cell_type": "markdown",
   "metadata": {},
   "source": [
    "## Determinante de una matriz\n",
    "\n",
    "Para $n≥2$ el **determinante** de una matriz $A=[a_{ij}]$ de $n×n$ es la suma de $n$ \n",
    "términos de la forma $±a_{ij}$ det $A_{ij}$, \n",
    "\n",
    "con signos más y menos alternados, donde las entradas $a_{11}, a_{12},..., a_{1n}$ son de la primera fila de $A$.\n",
    "En símbolos,\n",
    "\n",
    "$det A=a_{11} detA_{11} - a_{12} detA_{12} +···+ (-1)^{1+n}a_{1n} detA_{1n}=\\sum_{j=1}^{n}(-1)^{1+j}a_{1j} detA_{1j}$.\n",
    "\n",
    "### Ejercicio\n",
    "\n",
    "Calcular el determinante de $A=\\begin{bmatrix}1 & 5 & 0 \\\\2 & 4 &-1 \\\\0 &-2 & 0 \\end{bmatrix}$\n",
    "\n",
    "### Solución\n",
    "\n",
    "Para calcular el determnante de la matriz A primeramente hay que desarrollar la siguiente formula:\n",
    "\n",
    "$det A= a_{11} detA_{11} - a_{12} detA_{12} + a_{13} detA_{12}$\n",
    "\n",
    "$det A=1·\\begin{bmatrix} 4 & -1\\\\-2 & 0\\\\\\end{bmatrix} - 5·det\\begin{bmatrix} 2 & -1\\\\0 & 0\\\\\\end{bmatrix} +\n",
    "0·det\\begin{bmatrix} 2 & 4\\\\0 & -2\\\\\\end{bmatrix}= 1(0-2)-5(0-0)+0(-4-0)=-2 $\n",
    "\n",
    "#### Resultado\n",
    "\n",
    "Teniendo como resultado el determinante igual a **$-2$**\n",
    "\n",
    "### Comprobando el resultado tenemos el siguiente codigo"
   ]
  },
  {
   "cell_type": "code",
   "execution_count": 3,
   "metadata": {},
   "outputs": [
    {
     "data": {
      "text/plain": [
       "-2.0"
      ]
     },
     "execution_count": 3,
     "metadata": {},
     "output_type": "execute_result"
    }
   ],
   "source": [
    "import numpy as np\n",
    "import scipy.linalg as sl\n",
    "A=np.array([[1,5,0],[2,4,-1],[0,-2,0]])\n",
    "detA=sl.det(A)\n",
    "detA"
   ]
  }
 ],
 "metadata": {
  "kernelspec": {
   "display_name": "Python 3",
   "language": "python",
   "name": "python3"
  },
  "language_info": {
   "codemirror_mode": {
    "name": "ipython",
    "version": 3
   },
   "file_extension": ".py",
   "mimetype": "text/x-python",
   "name": "python",
   "nbconvert_exporter": "python",
   "pygments_lexer": "ipython3",
   "version": "3.7.0"
  }
 },
 "nbformat": 4,
 "nbformat_minor": 2
}
