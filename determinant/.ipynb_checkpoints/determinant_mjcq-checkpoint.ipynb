{
 "cells": [
  {
   "cell_type": "markdown",
   "metadata": {},
   "source": [
    "# Determinante de una matriz\n",
    "\n",
    "En Matemáticas se define el determinante como una forma multilineal alternada de un cuerpo. Esta definición indica una serie de propiedades matemáticas y generaliza el concepto de determinante haciéndolo aplicable en numerosos campos. Sin embargo, el concepto de determinante o de volumen orientado fue introducido para estudiar el número de soluciones de los sistemas de ecuaciones lineales.\n",
    "\n",
    "Los determinantes nos permiten saber la compatibilidad de los sistemas de ecuaciones lineales y nos facilitan la obtención de la solución en el caso de sistemas compatibles determinados.\n",
    "\n",
    "También tienen otras aplicaciones, por ejemplo: podemos usarlos para determinar si un conjunto de vectores son linealmente independientes y por tanto, forma una base del espacio vectorial; para obtener ecuaciones de planos, superfícies, rectas, etc.\n",
    "\n",
    "En reaildad, las aplicaciones anteriores se basan en la invertibilidad de las matrices. Si una matriz (cuadrada) es regular, su determinante es distinto de 0; si no lo es, es decir, si es singular, vale 0.\n",
    "\n",
    "*El determinante de una matriz de dimension 1 es igual al valor de la matriz*\n",
    "\n",
    "**DetA=|a|=a**\n",
    "\n",
    "*El determinante de una matriz de 2x2 se desarrolla multiplicando los terminos segun la pocicion en la que se encuentra*\n",
    "\n",
    "**DetA=(a00)(a11)-(a10)(a01)**\n",
    "\n",
    "**Ejemplo**\n",
    "\n",
    "Teniendo una matriz A de 3x3:"
   ]
  },
  {
   "cell_type": "code",
   "execution_count": 16,
   "metadata": {},
   "outputs": [
    {
     "data": {
      "text/plain": [
       "array([[ 7,  3, 14],\n",
       "       [ 2,  8, 10],\n",
       "       [ 9,  5, 11]])"
      ]
     },
     "execution_count": 16,
     "metadata": {},
     "output_type": "execute_result"
    }
   ],
   "source": [
    "import numpy\n",
    "A=numpy.array([[7,3,14],[2,8,10],[9,5,11]])\n",
    "A"
   ]
  },
  {
   "cell_type": "markdown",
   "metadata": {},
   "source": [
    "se debe de desarrollar con la formula conocida como la **Regla de Sarrus.**\n",
    "\n",
    "Donde se multiplican los valores segun su pocision en filas y columnas.\n",
    "\n",
    "**DetA= ((a00) (a11) (a22) + (a01) (a12) (a20) + (a02) (a10) (a21)) - ((a20) (a11) (a02) + (a21) (a12) (a00) + (a22) (a10) (a01))**\n",
    "\n",
    "*Sustituyendo valores:*\n",
    "\n",
    "**DetA= ((7) (8) (11) + (3) (10) (9) + (14) (2) (5)) - ((9) (8) (14) + (5) (10) (7) + (11) (2) (3))**\n",
    "\n",
    "**DetA= (616 + 270 + 140) - (1008 + 350 + 66)**\n",
    "\n",
    "**DetA= 1026 - 1424**\n",
    "\n",
    "**DetA= -398**\n",
    "\n",
    "*Si la dimension es mayor de 4 el determinante debe de ser desarrollado por Laplace*"
   ]
  },
  {
   "cell_type": "code",
   "execution_count": 19,
   "metadata": {},
   "outputs": [
    {
     "data": {
      "text/plain": [
       "-398.0"
      ]
     },
     "execution_count": 19,
     "metadata": {},
     "output_type": "execute_result"
    }
   ],
   "source": [
    "import scipy.linalg as sl\n",
    "DetA=sl.det(A)\n",
    "DetA"
   ]
  },
  {
   "cell_type": "markdown",
   "metadata": {},
   "source": []
  }
 ],
 "metadata": {
  "kernelspec": {
   "display_name": "Python 3",
   "language": "python",
   "name": "python3"
  },
  "language_info": {
   "codemirror_mode": {
    "name": "ipython",
    "version": 3
   },
   "file_extension": ".py",
   "mimetype": "text/x-python",
   "name": "python",
   "nbconvert_exporter": "python",
   "pygments_lexer": "ipython3",
   "version": "3.6.6"
  }
 },
 "nbformat": 4,
 "nbformat_minor": 2
}
