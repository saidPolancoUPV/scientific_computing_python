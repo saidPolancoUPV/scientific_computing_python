{
 "cells": [
  {
   "cell_type": "markdown",
   "metadata": {},
   "source": [
    "# Determinante de una Matriz cuadrada.\n",
    "\n",
    "El determinante es una herramienta matemática, que se puede encontrar o extraer únicamente de las matrices que son cuadradas (igual número de filas y columnas).\n",
    "\n",
    "Es un numero real (en caso de que la matriz sea real), el cual consiste en la suma de los productos elementales de la matriz.\n",
    "\n",
    "El determinante, es una función que le asigna a una matriz de orden $n$, un único número real $\\mathbb R$ llamado el determinante de la matriz. \n",
    "\n",
    "La forma de representar un determinante es: $det(A)$ o por medio de $| A |$.\n",
    "    \n",
    "### Formulas para solución de determinantes.\n",
    "\n",
    "Deacuerdo a la forma de la matriz ($m$x$n$, $n$x$n$) es el posible metodo que se utiliza.\n",
    "\n",
    "####  Caso 1.- Matrices de orden inferior. \n",
    "\n",
    "Una matriz de orden uno, es un caso trivial, pero debe ser considerado para completar todos los casos. Una matriz de orden uno puede ser tratada como un escalar, pero para evitar confuciones debe considerarse como una matriz cuadrada de orden uno, es decir:\n",
    "\n",
    "$det(A)$ = $det[a11]$ = $|a11|$ = $a11$.     Donde a11, es un escalar $\\in$ a $\\mathbb R$.\n",
    "\n",
    "Veamos un ejemplo:\n",
    "    \n",
    "$A$ = $[5]$.   donde A es una matriz de orden uno, por lo tanto, el calculo es como sigue:\n",
    "    \n",
    "$det(A)$ = $det(a11)$ = $|a11|$ = $a11$ = $5$. \n",
    "\n",
    "#### Caso 2.- Matriz cuadrada de orden 2, o matriz de $2x2$. \n",
    "\n",
    "Tenemos la siguiente matriz de orden 2 con la forma:   \n",
    "\n",
    "$$\n",
    "A=\\begin{pmatrix}\n",
    "a11 & a12 \\\\\n",
    "a21 & a22  \\end{pmatrix}\n",
    "\\label{matriz1}\n",
    "$$\n",
    "   \n",
    "Y el método para resolver el determinante de una matriz de $2x2$ es el siguiente:\n",
    "\n",
    "$det(A)$ = $|A|$ = $[(a11)(a22)-(a21)(a12)]$.\n",
    "\n",
    "Resolvamos el siguiente ejemplo: \n",
    "    \n",
    "$$                                   \n",
    "A=\\begin{pmatrix}                      \n",
    "3 & 4 \\\\                                \n",
    "1 & 2  \\end{pmatrix}                   \n",
    "$$\n",
    "\n",
    "Y la mtriz de orden 2 tiene la siguiente forma:\n",
    "    \n",
    "$$                                   \n",
    "A=\\begin{pmatrix}                      \n",
    "a11 & a12 \\\\                                \n",
    "a21 & a22  \\end{pmatrix}                   \n",
    "$$\n",
    "\n",
    "La formula para obtener el determinante seria:\n",
    "    \n",
    "$det(A)$ = $|A|$ = $[(a11)(a22)-(a21)(a12)]$. Sustituyendo en la formula, se genera:\n",
    "    \n",
    "$det(A)$ = $|A|$ = $[(3)(2)-(1)(4)]$ = $(6)-(4)$=$2$.  Por lo tanto, el $det(A)$ es $2$.\n",
    "\n",
    "#### Caso 3.- Determinante para una matriz de orden 3, o de $3x3$. t\n",
    "\n",
    "Tenemos una matriz cuadrada de orden $3$, la cual tiene la siguiente forma:\n",
    "\n",
    "$$    \n",
    "A=\\begin{bmatrix}\n",
    "a11 & a12 & a13 \\\\\n",
    "a21 & a22 & a23 \\\\\n",
    "a31 & a23 & a33 \\end{bmatrix}\n",
    "$$\n",
    "\n",
    "Un método sencillo para resolver este tipo de matrices es la Regla de $Sarrus$.\n",
    "\n",
    "El método de $Sarrus$ sugiere agregar, 2 filas o 2 columnas a la matriz original $A$.\n",
    "Para nuestro caso agregaremos 2 filas a la matriz original $A$, obteniendo la siguiente matriz aumentada:\n",
    "    \n",
    "$$    \n",
    "|A_S|=\\begin{bmatrix}\n",
    "a11 & a12 & a13 \\\\\n",
    "a21 & a22 & a23 \\\\\n",
    "a31 & a23 & a33 \\\\\n",
    "a11 & a12 & a13 \\\\\n",
    "a21 & a22 & a23 \\end{bmatrix}\n",
    "$$\n",
    "\n",
    "Una vez formada la matriz de sarrus $A_S$, se realiza una multiplicación de elementos de derecha a izquierda, y de arriba hacia abajo. Despúes se resta la multiplicación de elementos en el orden contrario, de derecha a izquierda, de abajo hacia arriba, obteniendo la siguiente expresión:\n",
    "\n",
    "$det(A)$ = $([(a11)(a22)(a33)$ + $(a21)(a32)(a13)$ + $(a31)(a12)(a23)]$ - $[(a31)(a22)(a13)$ + $(a11)(a32)(a23)$ + $(a21)(a12)(a33)])$. \n",
    "\n",
    "Resolvamos un ultimo ejemplo para el caso 3 (matrices de orden 3):\n",
    "\n",
    "$$    \n",
    "A=\\begin{bmatrix}\n",
    "1 & 1 & 2 \\\\\n",
    "2 & 2 & 3 \\\\\n",
    "3 & 4 & 4 \\end{bmatrix}\n",
    "$$\n",
    "\n",
    "Donde la matriz tiene la forma:\n",
    "    \n",
    "$$    \n",
    "A=\\begin{bmatrix}\n",
    "a11 & a12 & a13 \\\\\n",
    "a21 & a22 & a23 \\\\\n",
    "a31 & a32 & a33 \\end{bmatrix}\n",
    "$$\n",
    "\n",
    "Aplicando el método de Sarrus, se obtiene la siguiente matriz aumentada:\n",
    "\n",
    "$$    \n",
    "|A_S|=\\begin{bmatrix}\n",
    "1 & 1 & 2 \\\\\n",
    "2 & 2 & 3 \\\\\n",
    "3 & 4 & 4 \\\\\n",
    "1 & 1 & 2 \\\\\n",
    "2 & 2 & 3 \\end{bmatrix}\n",
    "$$\n",
    "    \n",
    "Una vez obtenida la matriz de Sarrus, se procede a aplicar la siguiengte formula para obtener el determinante de A:\n",
    "    \n",
    "$det(A)$ = $([(a11)(a22)(a33)$ + $(a21)(a32)(a13)$ + $(a31)(a12)(a23)]$ - $[(a31)(a22)(a13)$ + $(a11)(a32)(a23)$ + $(a21)(a12)(a33)])$.\n",
    "\n",
    "$det(A)$ = $([(1)(2)(4)$ + $(2)(4)(2)$ + $(3)(1)(3)]$ - $[(3)(2)(2)$ + $(1)(4)(3)$ + $(2)(1)(4)])$.\n",
    "\n",
    "$det(A)$ = $([(8)$ + $(16)$ + $(9)]$ - $[(12)$ + $(12)$ + $(8)])$.\n",
    "\n",
    "$det(A)$ = $(33)$ - $(32)$ = $det(A)$ = $1$.\n",
    "    \n",
    "Deacuerdo con los casos anteriores se pueden resolver determinantes $det(A)$ de diferentes formas ($m$x$n$, n$x$n). \n",
    "              \n",
    "Los determinantes se emplean en distintas modelaciones, cálculos de álgebra, el análisis y trascienden a áreas como la graficación 3D, tratamiento de imágenes, problemas de optimización, economía, física, etc.\n",
    "\n",
    "En algebra lineal, el $det(A)$ sirve para resolver algunos sistemas de ecuaciones, saber si es una matriz invertible ($A^{-1}$) o conocer su dependencia e independencia lineal.\n",
    "\n",
    "#### Solución de ejemplos usando el lenguaje de programación PYTHON 3.\n",
    "\n",
    "Usando el entorno de $Jupyter Notebook$ y la libreria de $SCIPY$ con modulo de Algebra Lineal $(sci.linalg)$, se da solución a los casos mostrados en la sección anterior.  \n",
    "\n"
   ]
  },
  {
   "cell_type": "code",
   "execution_count": null,
   "metadata": {},
   "outputs": [],
   "source": [
    "import numpy as np  ## Se importa la libreria Numpy con el alias np\n",
    "m1=np.array([5])    ## Se genera la matriz con el comando np.array\n",
    "m1\n"
   ]
  },
  {
   "cell_type": "code",
   "execution_count": 2,
   "metadata": {},
   "outputs": [
    {
     "data": {
      "text/plain": [
       "(1,)"
      ]
     },
     "execution_count": 2,
     "metadata": {},
     "output_type": "execute_result"
    }
   ],
   "source": [
    "m1.shape   ## Muestra la forma de la matriz m1, la cual es de orden 1.\n"
   ]
  },
  {
   "cell_type": "code",
   "execution_count": null,
   "metadata": {},
   "outputs": [],
   "source": [
    "import scipy.linalg as sl  ## El comando de la libreria SCIPY solo aplica para matrices cuadradas.\n",
    "m1=sl.det(m1)              ## Por lo que Jupyter notebook marcara un error."
   ]
  },
  {
   "cell_type": "code",
   "execution_count": 22,
   "metadata": {},
   "outputs": [
    {
     "data": {
      "text/plain": [
       "array([[3, 4],\n",
       "       [1, 2]])"
      ]
     },
     "execution_count": 22,
     "metadata": {},
     "output_type": "execute_result"
    }
   ],
   "source": [
    "m2=np.array([[3, 4],[1, 2]])  ## Se genera una matriz de orden 2.\n",
    "m2"
   ]
  },
  {
   "cell_type": "code",
   "execution_count": 24,
   "metadata": {},
   "outputs": [
    {
     "data": {
      "text/plain": [
       "2.0"
      ]
     },
     "execution_count": 24,
     "metadata": {},
     "output_type": "execute_result"
    }
   ],
   "source": [
    "m2=sl.det(m2)   ## Se aplica el comando sl.det para obtener el determinante de la matriz m2. \n",
    "m2"
   ]
  },
  {
   "cell_type": "code",
   "execution_count": 10,
   "metadata": {},
   "outputs": [
    {
     "data": {
      "text/plain": [
       "(2, 2)"
      ]
     },
     "execution_count": 10,
     "metadata": {},
     "output_type": "execute_result"
    }
   ],
   "source": [
    "m2.shape  ## Nos muestra la forma de la matriz m2, la cual es de 2x2."
   ]
  },
  {
   "cell_type": "code",
   "execution_count": 12,
   "metadata": {},
   "outputs": [
    {
     "data": {
      "text/plain": [
       "array([[1, 1, 2],\n",
       "       [2, 2, 3],\n",
       "       [3, 4, 4]])"
      ]
     },
     "execution_count": 12,
     "metadata": {},
     "output_type": "execute_result"
    }
   ],
   "source": [
    "m3=np.array([[1, 1, 2],[2, 2, 3],[3, 4, 4]])  ## Generamos una matriz de 3x3.\n",
    "m3"
   ]
  },
  {
   "cell_type": "code",
   "execution_count": 16,
   "metadata": {},
   "outputs": [
    {
     "data": {
      "text/plain": [
       "(3, 3)"
      ]
     },
     "execution_count": 16,
     "metadata": {},
     "output_type": "execute_result"
    }
   ],
   "source": [
    "m3.shape  ## Nos muestra la forma de la matriz m3, la cual es de 3x3."
   ]
  },
  {
   "cell_type": "code",
   "execution_count": 17,
   "metadata": {},
   "outputs": [
    {
     "data": {
      "text/plain": [
       "1.0"
      ]
     },
     "execution_count": 17,
     "metadata": {},
     "output_type": "execute_result"
    }
   ],
   "source": [
    "m3=sl.det(m3)  ## El comando sl.det de la libreria SCIPY nos muestra el valor de la determinante.\n",
    "m3"
   ]
  },
  {
   "cell_type": "code",
   "execution_count": null,
   "metadata": {},
   "outputs": [],
   "source": []
  }
 ],
 "metadata": {
  "kernelspec": {
   "display_name": "Python 3",
   "language": "python",
   "name": "python3"
  },
  "language_info": {
   "codemirror_mode": {
    "name": "ipython",
    "version": 3
   },
   "file_extension": ".py",
   "mimetype": "text/x-python",
   "name": "python",
   "nbconvert_exporter": "python",
   "pygments_lexer": "ipython3",
   "version": "3.6.6"
  }
 },
 "nbformat": 4,
 "nbformat_minor": 2
}
