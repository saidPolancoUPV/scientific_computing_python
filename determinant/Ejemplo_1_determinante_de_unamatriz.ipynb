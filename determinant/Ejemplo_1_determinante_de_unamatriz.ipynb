{
 "cells": [
  {
   "cell_type": "markdown",
   "metadata": {},
   "source": [
    "# Ejemplo Determinantes de una matriz\n",
    "El determinante de una matriz es un escalar que sólo se puede calcular si se trata de una matriz cuadrada, es decir, aquella en que el número de filas y de columnas coincide. Para denotarlo se precede el nombre de la matriz por “det”"
   ]
  },
  {
   "cell_type": "markdown",
   "metadata": {},
   "source": [
    "# Documentación      \n",
    "Una regla general para calcular el determinante de cualquier matriz sea del orden que sea es a través del uso de sus cofactores.\n",
    "  \n",
    "Se denomina cofactor del elemento aij y se denota habitualmente por Aij, al producto del determinante de la matriz que resulta de eliminar la fila y la columna en la que se situa dicho elemento por (-1)i+j.          \n",
    "\n",
    "Sea A una matriz cuadrada de orden MxM, el cofactor del elemento aij no será más que el determinante de la matriz (M-1)x(M-1) que resulta de eliminar la fila i-ésima y la columna j-ésima, cambiado de signo si la suma de los subíndices correspondientes a su fila y columna es impar.    \n",
    "# Formula\n",
    "La “fórmula de los cofactores” permite reducir un determinante de cualquier orden a una combinación de determinantes de orden inferior. Por tanto, si se tuviera que calcular el determinante de forma manual, se tendría que desarrollar la expresión hasta llegar a los determinantes de menor orden posible, es decir, 1x1. Para simplificar el proceso sería conveniente elegir la fila o columna más apropiada, es decir, la que permitiera llegar al resultado final con menos calculos .\n",
    "\n",
    "# Solucion a teorica:      \n",
    "El determinante de la matriz se realizo con la formula           \n",
    "det= A[0, 0]* A[1, 1] - A[1, 0]* A[0, 1]         \n",
    "# Solucion a mano:    \n",
    "y tomando en cuenta la matriz, se sustituyen los valores de la siguiente manera:            \n",
    "det= (1* 4) - (2* 3)      \n",
    "det= (4 - 6)     \n",
    "det= -2    "
   ]
  },
  {
   "cell_type": "code",
   "execution_count": 1,
   "metadata": {},
   "outputs": [
    {
     "data": {
      "text/plain": [
       "array([[1, 2],\n",
       "       [3, 4]])"
      ]
     },
     "execution_count": 1,
     "metadata": {},
     "output_type": "execute_result"
    }
   ],
   "source": [
    "import numpy\n",
    "import scipy.linalg as sl\n",
    "from numpy import array\n",
    "A=array ([[1, 2], [3, 4]])\n",
    "A"
   ]
  },
  {
   "cell_type": "code",
   "execution_count": 5,
   "metadata": {},
   "outputs": [],
   "source": [
    "det= sl.det(A)"
   ]
  },
  {
   "cell_type": "code",
   "execution_count": 6,
   "metadata": {},
   "outputs": [
    {
     "data": {
      "text/plain": [
       "-2.0"
      ]
     },
     "execution_count": 6,
     "metadata": {},
     "output_type": "execute_result"
    }
   ],
   "source": [
    "det"
   ]
  },
  {
   "cell_type": "markdown",
   "metadata": {},
   "source": []
  },
  {
   "cell_type": "code",
   "execution_count": null,
   "metadata": {},
   "outputs": [],
   "source": []
  }
 ],
 "metadata": {
  "kernelspec": {
   "display_name": "Python 3",
   "language": "python",
   "name": "python3"
  },
  "language_info": {
   "codemirror_mode": {
    "name": "ipython",
    "version": 3
   },
   "file_extension": ".py",
   "mimetype": "text/x-python",
   "name": "python",
   "nbconvert_exporter": "python",
   "pygments_lexer": "ipython3",
   "version": "3.6.6"
  }
 },
 "nbformat": 4,
 "nbformat_minor": 2
}
