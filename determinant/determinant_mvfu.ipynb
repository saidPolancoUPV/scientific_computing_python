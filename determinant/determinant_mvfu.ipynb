{
 "cells": [
  {
   "cell_type": "markdown",
   "metadata": {},
   "source": [
    "# Determinante de una matriz\n",
    "### Definicion\n",
    "Para una matriz cuadrada $A$[n,n], el determinante de $A$, abreviado det($A$), es un escalar definido como la suma de n! términos involucrando el producto de n elementos de la matriz, cadauno proveniente exactamente de una fila y columna diferente. Además, cada término de la suma está multiplicado por -1 ó +1 dependiendo del número de permutaciones del orden de las columnas que contenga.\n",
    "\n",
    "### Ejercicio\n",
    "Encontrar el determinante de la matriz $A$\n",
    "\\begin{bmatrix}\n",
    "5 & 2 & 4 \\\\\n",
    "-1 & 5 & 3 \\\\\n",
    "6 & 3 & -2 \\end{bmatrix}\n",
    "\n",
    "### Formula \n",
    "La fórmula empleada para la resoculion es conocida como de cofactores la cual permite reducir un determinante de cualquier orden a una combinación de determinantes de orden inferior. Se tendría que desarrollar la expresión hasta llegar a los determinantes de menor orden posible, es decir, 1x1.\n",
    "\n",
    "### Solucion paso a paso\n",
    "1. primero se le daran valores positivos y negativos alternadamente a los valores de la primera fila.\n",
    "\\begin{bmatrix}\n",
    "+5 & -2 &+4 \\end{bmatrix}\n",
    "\n",
    "2. Se realiza la multiplicacion usando los numero de las primeras fila como escalar por la determinante de las matrices que quedan eliminando la columna de donde pertenece cada escalar en la matriz.\n",
    "\n",
    "det $A$= 5* (5* -2 - 3* 3) -2(-1* -2 - 6* 3) + 4(-1* 3 - 6* 5)\n",
    "\n",
    "3. Realizando las operaciones quedaria.\n",
    "\n",
    "det $A$= 5* (-19) - 2* (-16) + 4* (-33)\n",
    "\n",
    "### Resultado\n",
    "det $A$= -195\n",
    "\n",
    "### Comprobacion por medio de codigo"
   ]
  },
  {
   "cell_type": "code",
   "execution_count": 5,
   "metadata": {},
   "outputs": [
    {
     "data": {
      "text/plain": [
       "-195.0"
      ]
     },
     "execution_count": 5,
     "metadata": {},
     "output_type": "execute_result"
    }
   ],
   "source": [
    "from numpy import array\n",
    "from scipy import linalg\n",
    "A= array([[5,2,4],[-1,5,3],[6,3,-2]])\n",
    "linalg.det(A)"
   ]
  },
  {
   "cell_type": "code",
   "execution_count": null,
   "metadata": {},
   "outputs": [],
   "source": []
  }
 ],
 "metadata": {
  "kernelspec": {
   "display_name": "Python 3",
   "language": "python",
   "name": "python3"
  },
  "language_info": {
   "codemirror_mode": {
    "name": "ipython",
    "version": 3
   },
   "file_extension": ".py",
   "mimetype": "text/x-python",
   "name": "python",
   "nbconvert_exporter": "python",
   "pygments_lexer": "ipython3",
   "version": "3.6.6"
  }
 },
 "nbformat": 4,
 "nbformat_minor": 2
}
