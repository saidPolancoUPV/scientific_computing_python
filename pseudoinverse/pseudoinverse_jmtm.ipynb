{
 "cells": [
  {
   "cell_type": "markdown",
   "metadata": {},
   "source": [
    "# Matriz Pseudo Inversa o Matriz de Moore-Penrose.\n",
    "\n",
    "Cuando una matriz es invertible, el sistema de ecuaciones $A$*$x$ = $b$ tiene solución única dada por la siguiente expresión:\n",
    "\n",
    "$x$ = $A^{−1}*b$.\n",
    "\n",
    "Pero, cuando la matriz no es invertible, se tiene la alternativa de introducir la matriz pseudoinversa, de la cual se tienen las siguientes restricciones.\n",
    "\n",
    "Si $A$ $∈$ $\\mathbb R^{m×n}$, entonces existe una única matriz $A^{+}$ $∈$ $\\mathbb R^{n×m}$ que satisface las siguientes cuatro condiciones:\n",
    "\n",
    "1.- $A$*$A^{+}$*$A$ = $A$.\n",
    "\n",
    "2.- $A^{+}$*$A$*$A^{+}$ = $A^{+}$.\n",
    "\n",
    "3.- $A^{+}$*$A$ = ($A^{+}$*A)$^{T}$.\n",
    "\n",
    "4.- $A$*$A^{+}$ = ($A$*$A^{+}$)$^{T}$.   Donde:  $A^{+}$ = es la pseudoinversa;   $A^{T}$ = matriz Transpuesta.\n",
    "\n",
    "### Caso para la  Matriz Pseudoinversa.\n",
    "\n",
    "Para el caso $m>n$, se puede obtener la matriz pseudoinversa, por la expresión: $A^{+}$ = ($A^{T}$ A)$^{−1}$*$A^{T}$.\n",
    "    \n",
    "Veamos un ejemplo:\n",
    "    \n",
    "1.- Dada la siguiente matriz, obtener la matriz pseudoinversa.\n",
    "\n",
    "$$\n",
    "A=\\begin{pmatrix}\n",
    "1 & 2  \\\\\n",
    "3 & 4  \\\\\n",
    "5 & 6  \\end{pmatrix}\n",
    "$$\n",
    "\n",
    "Sustituyendo la formula: $A^{+}$ = ($A^{T}$ A)$^{−1}$*$A^{T}$, se forma el siguiente sistema de matrices.\n",
    "\n",
    "La Matriz Transpuesta $A^{T}$ es la siguiente.\n",
    "\n",
    "$$\n",
    "A^{T}=\\begin{pmatrix}\n",
    "1 & 3 & 5 \\\\ \n",
    "2 & 4 & 6 \\end{pmatrix}\n",
    "$$\n",
    "\n",
    "Que se multiplica por la matriz $A$.\n",
    "    \n",
    "$$\n",
    "A=\\begin{pmatrix}\n",
    "1 & 2 \\\\ \n",
    "3 & 4 \\\\  \n",
    "5 & 6 \\end{pmatrix}\n",
    "$$  \n",
    "\n",
    "$a11=(1)(1)+(3)(3)+(5)(5) = (1+9+25) = 35$.\n",
    "\n",
    "$a12=(1)(2)+(3)(4)+(5)(6) = 2+12+30 = 44$.\n",
    "\n",
    "$a21=(2)(1)+(4)(3)+(5)(6) = 2+12+30 = 44$.\n",
    "\n",
    "$a22=(2)(2)+(4)(4)+(6)(6) = 4+16+36 = 56$. \n",
    "\n",
    "Obteniendo la siguiente matriz cuadrada de orden $2$.\n",
    "\n",
    "$$\n",
    "A^{T}*A=\\begin{pmatrix}\n",
    "35 & 44  \\\\ \n",
    "44 & 56  \\end{pmatrix}\n",
    "$$ \n",
    "\n",
    "Y de la matriz resultante, se calcula matriz inversa con la siguiente formula:\n",
    "\n",
    "$A^{-1} = 1/det(a)*adj(A)$.\n",
    "\n",
    "Entonces: $det(A^{T}*A) = (a11)(a22)-(a21)(a12) = (35)(56)-(44)(44) = (1960-1936) = 24$ \n",
    "    \n",
    "Y la matriz adjunta de orden 2 para la matriz $(A^{T}*A)$, es calculada deacuerdo a: \n",
    "    \n",
    "$$\n",
    "adj(A^{T}*A)=\\begin{pmatrix}\n",
    "    a22 & (-1)a21  \\\\ \n",
    "(-1)a12 &  a11  \\end{pmatrix}\n",
    "$$ \n",
    "\n",
    "Obteniendo la siguiente matriz $adj(A^{T}*A)$ del mismo orden:\n",
    "\n",
    "$$\n",
    "adj(A^{T}*A)=\\begin{pmatrix}\n",
    " 56 & -44  \\\\ \n",
    "-44 &  35  \\end{pmatrix}\n",
    "$$ \n",
    "\n",
    "Sustituyendo $adj(A^{T}*A)$ y $det(A)$ en la formula: $A^{-1} = 1/det(a)*adj(A)$, se tiene la siguiente matriz: \n",
    "    \n",
    "$$\n",
    "(A^{T}*A)^{-1}=1/24\\begin{pmatrix}\n",
    " 56 & -44  \\\\ \n",
    "-44 &  35  \\end{pmatrix}\n",
    "$$\n",
    "    \n",
    "La cual se multiplica una vez mas por la matriz transpuesta de A:\n",
    "\n",
    "$$\n",
    "A^{T}=\\begin{pmatrix}\n",
    "1 & 3 & 5 \\\\ \n",
    "2 & 4 & 6 \\end{pmatrix}\n",
    "$$\n",
    "\n",
    "Obteniendo finalmente, y despues de esfuerzo, la siguiente matriz final, la cual es la pseudoinversa de A.\n",
    "\n",
    "$$\n",
    "A^{+}=1/12\\begin{pmatrix}\n",
    "-16 & -4 &  8 \\\\ \n",
    " 13 &  4 & -5 \\end{pmatrix}\n",
    "$$\n",
    "\n",
    "### Solución de ejemplos usando el lenguaje de programación PYTHON 3.\n",
    "\n",
    "Usando el entorno de $Jupyter Notebook$ y la libreria de $SCIPY$ con modulo de Algebra Lineal $(sci.linalg)$, se da solución al ejemplo mostrado en la sección anterior.\n",
    "    "
   ]
  },
  {
   "cell_type": "code",
   "execution_count": 1,
   "metadata": {},
   "outputs": [
    {
     "data": {
      "text/plain": [
       "array([[1, 2],\n",
       "       [3, 4],\n",
       "       [5, 6]])"
      ]
     },
     "execution_count": 1,
     "metadata": {},
     "output_type": "execute_result"
    }
   ],
   "source": [
    "import numpy as np\n",
    "m4=np.array([[1,2],[3,4],[5,6]])   ## Se genera la matriz de 3x2 con numpy.array\n",
    "m4\n"
   ]
  },
  {
   "cell_type": "code",
   "execution_count": 15,
   "metadata": {},
   "outputs": [
    {
     "data": {
      "text/plain": [
       "array([[1, 3, 5],\n",
       "       [2, 4, 6]])"
      ]
     },
     "execution_count": 15,
     "metadata": {},
     "output_type": "execute_result"
    }
   ],
   "source": [
    "m5=np.array([[1,3,5],[2,4,6]])  ## Se muestra en el array de m5 la matriz transpuesta de m4.\n",
    "m5"
   ]
  },
  {
   "cell_type": "code",
   "execution_count": 19,
   "metadata": {},
   "outputs": [
    {
     "data": {
      "text/plain": [
       "array([[ 2.33333333, -1.83333333],\n",
       "       [-1.83333333,  1.45833333]])"
      ]
     },
     "execution_count": 19,
     "metadata": {},
     "output_type": "execute_result"
    }
   ],
   "source": [
    "m6=np.array([[35,44],[44,56]])  ## Se muestra la matriz inversa del producto de m4*m5\n",
    "m6=sl.inv(m6)\n",
    "m6\n"
   ]
  },
  {
   "cell_type": "code",
   "execution_count": 22,
   "metadata": {},
   "outputs": [
    {
     "data": {
      "text/plain": [
       "array([[-1.33333333, -0.33333333,  0.66666667],\n",
       "       [ 1.08333333,  0.33333333, -0.41666667]])"
      ]
     },
     "execution_count": 22,
     "metadata": {},
     "output_type": "execute_result"
    }
   ],
   "source": [
    "m8=m6.dot(m5)   ## Obtenidas la inversa y la transpuesta se resuelve con producto matricial.\n",
    "m8              ## Y se muestra la matriz Pseudoinversa.\n"
   ]
  },
  {
   "cell_type": "code",
   "execution_count": 25,
   "metadata": {},
   "outputs": [
    {
     "data": {
      "text/plain": [
       "array([[-1.33333333, -0.33333333,  0.66666667],\n",
       "       [ 1.08333333,  0.33333333, -0.41666667]])"
      ]
     },
     "execution_count": 25,
     "metadata": {},
     "output_type": "execute_result"
    }
   ],
   "source": [
    "m4=sl.pinv(m4)   ## Se obtiene el mismo resultado usando el comando sl.pinv de scipy.\n",
    "m4\n"
   ]
  },
  {
   "cell_type": "code",
   "execution_count": null,
   "metadata": {},
   "outputs": [],
   "source": []
  },
  {
   "cell_type": "code",
   "execution_count": null,
   "metadata": {},
   "outputs": [],
   "source": []
  }
 ],
 "metadata": {
  "kernelspec": {
   "display_name": "Python 3",
   "language": "python",
   "name": "python3"
  },
  "language_info": {
   "codemirror_mode": {
    "name": "ipython",
    "version": 3
   },
   "file_extension": ".py",
   "mimetype": "text/x-python",
   "name": "python",
   "nbconvert_exporter": "python",
   "pygments_lexer": "ipython3",
   "version": "3.6.6"
  }
 },
 "nbformat": 4,
 "nbformat_minor": 2
}
